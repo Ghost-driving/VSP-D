{
  "nbformat": 4,
  "nbformat_minor": 0,
  "metadata": {
    "colab": {
      "provenance": []
    },
    "kernelspec": {
      "name": "python3",
      "display_name": "Python 3"
    },
    "language_info": {
      "name": "python"
    }
  },
  "cells": [
    {
      "cell_type": "code",
      "execution_count": 2,
      "metadata": {
        "colab": {
          "base_uri": "https://localhost:8080/"
        },
        "id": "1IAvQTnZfvAs",
        "outputId": "9d59fe52-66c8-4e34-f0c2-a846ea551bac"
      },
      "outputs": [
        {
          "output_type": "execute_result",
          "data": {
            "text/plain": [
              "2"
            ]
          },
          "metadata": {},
          "execution_count": 2
        }
      ],
      "source": [
        "1+1"
      ]
    },
    {
      "cell_type": "code",
      "source": [
        "10+5"
      ],
      "metadata": {
        "colab": {
          "base_uri": "https://localhost:8080/"
        },
        "id": "TFBKI2jjgV3R",
        "outputId": "46b16d94-b49b-4ae6-e7e1-821fa637be47"
      },
      "execution_count": 3,
      "outputs": [
        {
          "output_type": "execute_result",
          "data": {
            "text/plain": [
              "15"
            ]
          },
          "metadata": {},
          "execution_count": 3
        }
      ]
    },
    {
      "cell_type": "code",
      "source": [],
      "metadata": {
        "id": "oPNmDpRZgiBi"
      },
      "execution_count": null,
      "outputs": []
    },
    {
      "cell_type": "markdown",
      "source": [
        "105"
      ],
      "metadata": {
        "id": "3pfpFnc6gkl3"
      }
    },
    {
      "cell_type": "code",
      "source": [],
      "metadata": {
        "id": "qa7nvI4mgmMY"
      },
      "execution_count": null,
      "outputs": []
    },
    {
      "cell_type": "markdown",
      "source": [
        "Here is my first opperation"
      ],
      "metadata": {
        "id": "E1eAn9aIgxDv"
      }
    },
    {
      "cell_type": "code",
      "source": [],
      "metadata": {
        "id": "XqDNG4L1g2Ux"
      },
      "execution_count": null,
      "outputs": []
    }
  ]
}