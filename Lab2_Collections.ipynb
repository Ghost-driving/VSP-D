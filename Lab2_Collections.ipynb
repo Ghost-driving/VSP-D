{
  "cells": [
    {
      "cell_type": "markdown",
      "metadata": {
        "id": "view-in-github",
        "colab_type": "text"
      },
      "source": [
        "<a href=\"https://colab.research.google.com/github/Ghost-driving/VSP-D/blob/main/Lab2_Collections.ipynb\" target=\"_parent\"><img src=\"https://colab.research.google.com/assets/colab-badge.svg\" alt=\"Open In Colab\"/></a>"
      ]
    },
    {
      "metadata": {
        "id": "53bab78b0d66b246"
      },
      "cell_type": "markdown",
      "source": [
        "# Lab Assignment # 2 - Collections"
      ],
      "id": "53bab78b0d66b246"
    },
    {
      "metadata": {
        "id": "c980b9461542bf99"
      },
      "cell_type": "markdown",
      "source": [
        "## Exercise 1 -- Comparison Operators\n",
        "Using `num_list` and list comprehensions, create three lists that correspond to the elements in num_list:\n",
        "1. `equal_list` whose elements should be true if the corresponding element in `num_list` is equal to 0 and false otherwise.\n",
        "2. `greater_list` whose elements should be true if the corresponding element in `num_list` is strictly greater than 0 and false otherwise.\n",
        "3. `lesser_list` whose elements should be true if the corresponding element in `num_list` is strictly less than 0 and false otherwise.\n",
        "4. Finally, using the three lists you generated, list comprehensions, and `zip()`, create `true_list` a list of length 7 where every element is true.\n",
        "\n",
        "**Hints for 4:**\n",
        "- `zip` can be used on more than two lists\n",
        "- use `or` within the list comprehension"
      ],
      "id": "c980b9461542bf99"
    },
    {
      "metadata": {
        "colab": {
          "base_uri": "https://localhost:8080/"
        },
        "id": "2e353f3a5c8caeb4",
        "outputId": "0d5d79e8-66b7-4962-d15a-6ec4f5c971d3"
      },
      "cell_type": "code",
      "source": [
        "# Exercise 1 Code\n",
        "# Don't edit the line below\n",
        "num_list = [-5, -3, -1, 0, 1, 3, 5]\n",
        "\n",
        "# your code below here\n",
        "equal_list = num_list[3]\n",
        "greater_list = num_list[4:]\n",
        "lesser_list = num_list[0:3]\n",
        "print(equal_list)\n",
        "print(greater_list)\n",
        "print(lesser_list)"
      ],
      "id": "2e353f3a5c8caeb4",
      "outputs": [
        {
          "output_type": "stream",
          "name": "stdout",
          "text": [
            "0\n",
            "[1, 3, 5]\n",
            "[-5, -3, -1]\n"
          ]
        }
      ],
      "execution_count": null
    },
    {
      "cell_type": "code",
      "source": [
        "true1_list = greater_list+lesser_list\n",
        "true_list = true1_list.append(equal_list)\n",
        "print(true_list)"
      ],
      "metadata": {
        "colab": {
          "base_uri": "https://localhost:8080/"
        },
        "id": "GewfAup9DbPC",
        "outputId": "c77d79ff-f9f9-423c-830d-c8939c5c6249"
      },
      "id": "GewfAup9DbPC",
      "execution_count": null,
      "outputs": [
        {
          "output_type": "stream",
          "name": "stdout",
          "text": [
            "None\n"
          ]
        }
      ]
    },
    {
      "metadata": {
        "id": "af64d7ed5202ea4"
      },
      "cell_type": "markdown",
      "source": [
        "## Exercise 2 -- Lists\n",
        "Complete the following steps in the cells below:\n",
        "1. Add two different elements from `num_list` together so that the sum is 0. Print the result.\n",
        "2. Using `.append()`, add a 7 to the end of `num_list`\n",
        "3. Using `.insert()`, add a -7 to the start of `num_list`\n",
        "3. Change each element of `num_list` individually so that it it is equal to the list `[-4, -3, -2, -1, 0, 1, 2, 3, 4]`\n",
        "4. Use the list method `.reverse()` on `num_list` then print `num_list`. What does `.reverse()` do?  Did `.reverse()` change `num_list`?  Answer in the Markdown Cell.\n"
      ],
      "id": "af64d7ed5202ea4"
    },
    {
      "metadata": {
        "colab": {
          "base_uri": "https://localhost:8080/"
        },
        "id": "d7b462dd84d7b94a",
        "outputId": "9949050b-b2a5-401a-9940-a0a7ae610d9f"
      },
      "cell_type": "code",
      "source": [
        "# Exercise 2 Code\n",
        "sum = num_list[0]+num_list[-1]\n",
        "print(sum)"
      ],
      "id": "d7b462dd84d7b94a",
      "outputs": [
        {
          "output_type": "stream",
          "name": "stdout",
          "text": [
            "0\n"
          ]
        }
      ],
      "execution_count": null
    },
    {
      "cell_type": "code",
      "source": [
        "num_list.append(7)\n",
        "print(num_list)"
      ],
      "metadata": {
        "colab": {
          "base_uri": "https://localhost:8080/"
        },
        "id": "FugSjUBnL35c",
        "outputId": "5c51263c-4b8d-4e30-f174-fe0643ebe9fe"
      },
      "id": "FugSjUBnL35c",
      "execution_count": null,
      "outputs": [
        {
          "output_type": "stream",
          "name": "stdout",
          "text": [
            "[-5, -3, -1, 0, 1, 3, 5, 7]\n"
          ]
        }
      ]
    },
    {
      "cell_type": "code",
      "source": [
        "num_list.insert(0,-7)\n",
        "print(num_list)"
      ],
      "metadata": {
        "colab": {
          "base_uri": "https://localhost:8080/"
        },
        "id": "9bOt5lAHMLil",
        "outputId": "e9d9c1ac-8a54-4d59-f8a9-efdbc739fc9c"
      },
      "id": "9bOt5lAHMLil",
      "execution_count": null,
      "outputs": [
        {
          "output_type": "stream",
          "name": "stdout",
          "text": [
            "[-7, -5, -3, -1, 0, 1, 3, 5, 7]\n"
          ]
        }
      ]
    },
    {
      "cell_type": "code",
      "source": [
        "num_list1 = [i+3 for i in num_list]\n",
        "print(num_list1)"
      ],
      "metadata": {
        "colab": {
          "base_uri": "https://localhost:8080/"
        },
        "id": "2cr2epWSH-px",
        "outputId": "084d7d0f-2487-4a75-830e-d78dcad597f6"
      },
      "id": "2cr2epWSH-px",
      "execution_count": null,
      "outputs": [
        {
          "output_type": "stream",
          "name": "stdout",
          "text": [
            "[-4, -2, 0, 2, 3, 4, 6, 8, 10]\n"
          ]
        }
      ]
    },
    {
      "metadata": {
        "id": "89dc2473a4e17740"
      },
      "cell_type": "markdown",
      "source": [
        "### Response to Exercise 2.5"
      ],
      "id": "89dc2473a4e17740"
    },
    {
      "cell_type": "code",
      "source": [
        "num_list.reverse\n",
        "print(num_list)"
      ],
      "metadata": {
        "colab": {
          "base_uri": "https://localhost:8080/"
        },
        "id": "etWRHByqHxY0",
        "outputId": "14bbf5ce-0239-4ff0-ca2c-d967c8e757be"
      },
      "id": "etWRHByqHxY0",
      "execution_count": null,
      "outputs": [
        {
          "output_type": "stream",
          "name": "stdout",
          "text": [
            "[-7, -5, -3, -1, 0, 1, 3, 5, 7]\n"
          ]
        }
      ]
    },
    {
      "metadata": {
        "id": "47726a8961d2a436"
      },
      "cell_type": "markdown",
      "source": [
        "## Exercise 3 -- Dictonaries\n",
        "First, define a dictonary called `my_dict`. It should contain four keys:\n",
        "- \"name\"\n",
        "- \"major\"\n",
        "- \"favorite artist\"\n",
        "- \"favorite food\"\n",
        "\n",
        "Fill out the values to match your name, major, etc.\n",
        "\n",
        "Using `my_dict` and string formatting, print a sentence in the cell below that says who you are, what your major is, your favorite artist, and your favorite food."
      ],
      "id": "47726a8961d2a436"
    },
    {
      "metadata": {
        "id": "e61e388fab247657",
        "colab": {
          "base_uri": "https://localhost:8080/"
        },
        "outputId": "4bad5f58-2fc7-41b2-abe8-bf6c086d21dc"
      },
      "cell_type": "code",
      "source": [
        "# Exercise 3 Code\n",
        "name = [\"Amy\",\"Emily\",\"Candy\",\"Rocky\"]\n",
        "major = [\"science\",\"literature\",\"art\",\"engineer\"]\n",
        "favourite_artist = [\"Vangou\",\"Monet\",\"Rapheal\",\"DaVinci\"]\n",
        "favourite_food = [\"hanbergur\",\"strawberry\",\"apple\",\"rice\"]\n",
        "my_dict = zip(name,major,favourite_artist,favourite_food)\n",
        "for i in range(4):\n",
        "  print(f\"My name is {name[i]}, my major is {major[i]}, my favourite artist is {favourite_artist[i]},and my favorite food is {favourite_food[i]}.\")"
      ],
      "id": "e61e388fab247657",
      "outputs": [
        {
          "output_type": "stream",
          "name": "stdout",
          "text": [
            "My name is Amy, my major is science, my favourite artist is Vangou,and my favorite food is hanbergur.\n",
            "My name is Emily, my major is literature, my favourite artist is Monet,and my favorite food is strawberry.\n",
            "My name is Candy, my major is art, my favourite artist is Rapheal,and my favorite food is apple.\n",
            "My name is Rocky, my major is engineer, my favourite artist is DaVinci,and my favorite food is rice.\n"
          ]
        }
      ],
      "execution_count": null
    },
    {
      "metadata": {
        "id": "8476f31e2c9c2da7"
      },
      "cell_type": "markdown",
      "source": [
        "## Exercise 4 -- Type Conversion\n",
        "We can use functions like `int()`, `float()`, and `str()` to convert from one type into another. Use them to complete the following tasks:\n",
        "1. Define a variable called `revenue` that is equal to price times quanitity. You can only use the strings that are already defined, the conversion functions above, and the `*` operator.\n",
        "2. Use `str()` to convert `revenue` into a string with a dollar sign in fron. Call this new variable `revenue_string` and print it.\n",
        "\n",
        "\n",
        "**Hint:** How can you remove the dollar sign before conversion?\n"
      ],
      "id": "8476f31e2c9c2da7"
    },
    {
      "metadata": {
        "id": "c0fe320082e8d0dd",
        "colab": {
          "base_uri": "https://localhost:8080/"
        },
        "outputId": "b9e4f68d-8974-438f-aaff-8571c234f8bc"
      },
      "cell_type": "code",
      "source": [
        "# Exercise 4 Code\n",
        "price_string  = \"$7.50\" # don't edit\n",
        "quantity_string = \"10\" # don't edit\n",
        "price = float(price_string.replace('$', \" \"))\n",
        "quantity = int(quantity_string)\n",
        "revenue =price * quantity\n",
        "print(revenue)\n",
        "# your code here\n"
      ],
      "id": "c0fe320082e8d0dd",
      "outputs": [
        {
          "output_type": "stream",
          "name": "stdout",
          "text": [
            "75.0\n"
          ]
        }
      ],
      "execution_count": null
    },
    {
      "metadata": {
        "id": "9571d4b7f5224303"
      },
      "cell_type": "markdown",
      "source": [
        "## Exercise 5 -- Modules and Very Basic Plotting\n",
        "Complete the following steps in the cells below:\n",
        "1. Import the `math` module and give it an alias of `mt`.\n",
        "2. Import the `matplotlib.pyplot` module and give it an alias of `plt`.\n",
        "3. Create a variable named `num_range` and set it equal to a range of numbers from 0 to 1000 (including 1000).\n",
        "4. Using `num_range` and a list comprehension, create a list called `sine_list` that is equal to `sin((pi/100) * x)` for every `x` in the range `num_range`. (**Hint:** sin and pi are objects from the math library.)\n",
        "5. Finally, using `plt`, `num_range`, and `sine_list`, generate a line plot."
      ],
      "id": "9571d4b7f5224303"
    },
    {
      "metadata": {
        "id": "d8495aeebf9b755f"
      },
      "cell_type": "code",
      "source": [
        "# Exercise 5 Code"
      ],
      "id": "d8495aeebf9b755f",
      "outputs": [],
      "execution_count": null
    },
    {
      "metadata": {
        "id": "329bdb885f4a56c"
      },
      "cell_type": "code",
      "source": [
        "import math as mt\n",
        "import matplotlib.pyplot as plt\n",
        "num_range = range(0, 1001)\n",
        "sine_list = sin((pi/100)*x) for x in unm_range:\n"
      ],
      "id": "329bdb885f4a56c",
      "outputs": [],
      "execution_count": null
    }
  ],
  "metadata": {
    "kernelspec": {
      "display_name": "Python 3",
      "language": "python",
      "name": "python3"
    },
    "language_info": {
      "codemirror_mode": {
        "name": "ipython",
        "version": 2
      },
      "file_extension": ".py",
      "mimetype": "text/x-python",
      "name": "python",
      "nbconvert_exporter": "python",
      "pygments_lexer": "ipython2",
      "version": "2.7.6"
    },
    "colab": {
      "provenance": [],
      "include_colab_link": true
    }
  },
  "nbformat": 4,
  "nbformat_minor": 5
}