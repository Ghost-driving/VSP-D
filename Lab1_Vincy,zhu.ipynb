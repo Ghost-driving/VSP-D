{
  "cells": [
    {
      "cell_type": "markdown",
      "id": "fea96cfa",
      "metadata": {
        "id": "fea96cfa"
      },
      "source": [
        "# Lab Assignment 1 -- Fundamentals\n",
        "In this lab, you will complete a series of exercises related to the lecture material on coding fundamentals and collections.\n",
        "\n",
        "Since this is the first lab that involves coding, we will begin with an exercise related to Jupyter notebook functionality."
      ]
    },
    {
      "cell_type": "markdown",
      "id": "5b0e6098",
      "metadata": {
        "id": "5b0e6098"
      },
      "source": [
        "## Exercise 1 -- Jupyter Markdown Basics\n",
        "Jupyter notebooks allows cells to be interpreted as either code or Markdown. Markdown is a lightweight formatting language. In fact, what you're reading right now is written in Markdown. The syntax is very simple and a reference for common commands can be found [here](https://www.markdownguide.org/cheat-sheet/). Use this reference guide to complete the following steps:\n",
        "\n",
        "1. Create a cell below this one by using the insert drop down menu or by clicking on the left of this box (so the side bar turns blue) and tapping the <kbd>b</kbd> key.\n",
        "2. Make the cell a Markdown cell by clicking on it and using the drop down menu above.\n",
        "3. Using the reference guide, find out how to create the **smallest** heading  and use it give the cell you create a header of \"Solution to Exercise 1\" without the quotes.\n",
        "4. Using the reference guide, figure out how to make ordered and unordered lists. Using an unordered list, list three of the things you hope to learn from this class.\n",
        "5. Sometimes, we want to reference specific code or code objects in the text of Markdown. Markdown allows us to format such reference so that it appears in a gray box (e.g. `x=3`). Using the reference guide, figure out how to format code and format  x = 3, so it has a gray box around it in the cell you created."
      ]
    },
    {
      "cell_type": "markdown",
      "source": [
        "### solution to Exercise 1\n",
        "#1,Learning the logic about coding\n",
        "#2,Successfully coding a compelet programme\n",
        "#3,The project could run fluently and finish its work\n"
      ],
      "metadata": {
        "id": "Gyu7sMkA3cIe"
      },
      "id": "Gyu7sMkA3cIe"
    },
    {
      "cell_type": "code",
      "source": [
        "x = 3"
      ],
      "metadata": {
        "id": "HB42q5U16uz2"
      },
      "id": "HB42q5U16uz2",
      "execution_count": null,
      "outputs": []
    },
    {
      "cell_type": "markdown",
      "id": "7835167d",
      "metadata": {
        "id": "7835167d"
      },
      "source": [
        "## Exercise 2 -- Basic Variable Assignment\n",
        "Complete the following steps in the cells below.\n",
        "1. Generate a variable called `x_flt` and set it equal to 3.0. Print its type.\n",
        "2. Generate a variable called `x_int` and set it equal to 3. Print its type.\n",
        "3. Generate a variable called  `x_str` and set it equal to \"3\". Print its type.\n",
        "4. Which of these two variables can you add together with the `+` operator? Why? Answer in the Markdown cell below."
      ]
    },
    {
      "cell_type": "code",
      "id": "8c80cd8e",
      "metadata": {
        "colab": {
          "base_uri": "https://localhost:8080/"
        },
        "id": "8c80cd8e",
        "outputId": "0087a930-7b1c-4f60-f100-9a1586e960a7"
      },
      "source": [
        "# Exercise 2 Code\n",
        "x_flt = 3.0\n",
        "print(type(x_flt))"
      ],
      "outputs": [
        {
          "output_type": "stream",
          "name": "stdout",
          "text": [
            "<class 'float'>\n"
          ]
        }
      ],
      "execution_count": null
    },
    {
      "cell_type": "code",
      "source": [
        "x_int = 3\n",
        "print(type(x_int))"
      ],
      "metadata": {
        "colab": {
          "base_uri": "https://localhost:8080/"
        },
        "id": "JLOCs4f512fT",
        "outputId": "b5c5d151-2816-4635-ff9b-ef030d51e584"
      },
      "id": "JLOCs4f512fT",
      "execution_count": null,
      "outputs": [
        {
          "output_type": "stream",
          "name": "stdout",
          "text": [
            "<class 'int'>\n"
          ]
        }
      ]
    },
    {
      "cell_type": "code",
      "source": [
        "x_str = \"3\"\n",
        "print(type(x_str))"
      ],
      "metadata": {
        "colab": {
          "base_uri": "https://localhost:8080/"
        },
        "id": "8MW6vgLV1-WI",
        "outputId": "5d51c8dc-d0bf-449c-cde2-b0ec0eec985b"
      },
      "id": "8MW6vgLV1-WI",
      "execution_count": null,
      "outputs": [
        {
          "output_type": "stream",
          "name": "stdout",
          "text": [
            "<class 'str'>\n"
          ]
        }
      ]
    },
    {
      "cell_type": "code",
      "source": [
        "print(x_flt + x_int)"
      ],
      "metadata": {
        "colab": {
          "base_uri": "https://localhost:8080/"
        },
        "id": "HbP0GBof2MMF",
        "outputId": "710d5972-fd3a-4ee5-8df8-3e313e30bc34"
      },
      "id": "HbP0GBof2MMF",
      "execution_count": null,
      "outputs": [
        {
          "output_type": "stream",
          "name": "stdout",
          "text": [
            "6.0\n"
          ]
        }
      ]
    },
    {
      "cell_type": "code",
      "source": [
        "print(x_flt + x_str)"
      ],
      "metadata": {
        "colab": {
          "base_uri": "https://localhost:8080/",
          "height": 145
        },
        "id": "2lSPcz242WAa",
        "outputId": "d5625cf4-31ca-47e7-9c8d-423cd7b3e8ec"
      },
      "id": "2lSPcz242WAa",
      "execution_count": null,
      "outputs": [
        {
          "output_type": "error",
          "ename": "TypeError",
          "evalue": "unsupported operand type(s) for +: 'float' and 'str'",
          "traceback": [
            "\u001b[0;31m---------------------------------------------------------------------------\u001b[0m",
            "\u001b[0;31mTypeError\u001b[0m                                 Traceback (most recent call last)",
            "\u001b[0;32m<ipython-input-8-406f50c0d1cb>\u001b[0m in \u001b[0;36m<cell line: 1>\u001b[0;34m()\u001b[0m\n\u001b[0;32m----> 1\u001b[0;31m \u001b[0mprint\u001b[0m\u001b[0;34m(\u001b[0m\u001b[0mx_flt\u001b[0m \u001b[0;34m+\u001b[0m \u001b[0mx_str\u001b[0m\u001b[0;34m)\u001b[0m\u001b[0;34m\u001b[0m\u001b[0;34m\u001b[0m\u001b[0m\n\u001b[0m",
            "\u001b[0;31mTypeError\u001b[0m: unsupported operand type(s) for +: 'float' and 'str'"
          ]
        }
      ]
    },
    {
      "cell_type": "code",
      "source": [
        "print(x_int + x_str)"
      ],
      "metadata": {
        "colab": {
          "base_uri": "https://localhost:8080/",
          "height": 145
        },
        "id": "FUtQqt3D2avw",
        "outputId": "5c7ac18f-c724-4752-944e-6a7e30f274dc"
      },
      "id": "FUtQqt3D2avw",
      "execution_count": null,
      "outputs": [
        {
          "output_type": "error",
          "ename": "TypeError",
          "evalue": "unsupported operand type(s) for +: 'int' and 'str'",
          "traceback": [
            "\u001b[0;31m---------------------------------------------------------------------------\u001b[0m",
            "\u001b[0;31mTypeError\u001b[0m                                 Traceback (most recent call last)",
            "\u001b[0;32m<ipython-input-9-51505c5d5a67>\u001b[0m in \u001b[0;36m<cell line: 1>\u001b[0;34m()\u001b[0m\n\u001b[0;32m----> 1\u001b[0;31m \u001b[0mprint\u001b[0m\u001b[0;34m(\u001b[0m\u001b[0mx_int\u001b[0m \u001b[0;34m+\u001b[0m \u001b[0mx_str\u001b[0m\u001b[0;34m)\u001b[0m\u001b[0;34m\u001b[0m\u001b[0;34m\u001b[0m\u001b[0m\n\u001b[0m",
            "\u001b[0;31mTypeError\u001b[0m: unsupported operand type(s) for +: 'int' and 'str'"
          ]
        }
      ]
    },
    {
      "cell_type": "markdown",
      "id": "70b8adf0",
      "metadata": {
        "id": "70b8adf0"
      },
      "source": [
        "### Response to 2.4"
      ]
    },
    {
      "cell_type": "markdown",
      "source": [
        "The \"x_flt + x_int\" can be added into result as 6.0, because they are all the number.The difference between them is one contain the float another just 3.The \"x_str\" could not be added to other two things is because the \"str\" means a character or a text, and python could not understand what the real means behind it."
      ],
      "metadata": {
        "id": "xzrEecMK2lXt"
      },
      "id": "xzrEecMK2lXt"
    },
    {
      "cell_type": "markdown",
      "id": "9db99652",
      "metadata": {
        "id": "9db99652"
      },
      "source": [
        "## Exercise 3 -- Variable Reassignment\n",
        "Complete the following steps in the cells below.\n",
        "1. Assign `x` equal to `\"good\"`\n",
        "2. Assign `y` equal to `x`\n",
        "3. Reassign `x` to `\"bad\"`\n",
        "4. Use `print` to print `y`\n",
        "5. Does the print statement print \"good\" or a \"bad\"? Did changing `x` to \"bad\" affect anything? Why or why not? Answer in the Markdown cell below."
      ]
    },
    {
      "cell_type": "markdown",
      "id": "b24737e5",
      "metadata": {
        "id": "b24737e5"
      },
      "source": [
        "### Response to 3.5\n",
        "The print statement print \"good\".Last \"x = \"bad\"\" affect the content about x but it didn't work with y .The y has been given a value before and it only change x."
      ]
    },
    {
      "cell_type": "code",
      "id": "9c154552",
      "metadata": {
        "scrolled": true,
        "colab": {
          "base_uri": "https://localhost:8080/"
        },
        "id": "9c154552",
        "outputId": "460a91fd-1a48-4a2f-af22-a23142905385"
      },
      "source": [
        "# Exercise 3 Code\n",
        "x = \"good\"\n",
        "y = x\n",
        "x = \"bad\"\n",
        "print(y)\n"
      ],
      "outputs": [
        {
          "output_type": "stream",
          "name": "stdout",
          "text": [
            "good\n"
          ]
        }
      ],
      "execution_count": null
    },
    {
      "cell_type": "markdown",
      "id": "4700d845",
      "metadata": {
        "id": "4700d845"
      },
      "source": [
        "## Exercise 4 -- Basic Arithmetic\n",
        "Generate the following variables with the corresponding value in the cell below:\n",
        "1. `x` equal to 20\n",
        "2. `y` equal to 10\n",
        "3. `z1` equal to the sum of `x` and `y`\n",
        "4. `z2` equal to `x` minus `y`\n",
        "5. `z3` equal to `x` times `y`\n",
        "6. `z4` equal to `x` divided by `y`\n",
        "\n",
        "Answer the following question in the Markdown Cell Below\n",
        "\n",
        "7. Use `type()` to deterimine which of these variables is a floating point number? Why is this the case?"
      ]
    },
    {
      "cell_type": "code",
      "id": "564b49ec",
      "metadata": {
        "id": "564b49ec"
      },
      "source": [
        "# Exercise 4 Code\n",
        "x = 20\n",
        "y = 10\n",
        "z1 = x + y\n",
        "z2 = x - y\n",
        "z3 = x * y\n",
        "z4 = x / y"
      ],
      "outputs": [],
      "execution_count": null
    },
    {
      "cell_type": "code",
      "source": [
        "print(x)\n",
        "print(y)\n",
        "print(z1)\n",
        "print(z2)\n",
        "print(z3)\n",
        "print(z4)"
      ],
      "metadata": {
        "colab": {
          "base_uri": "https://localhost:8080/"
        },
        "id": "lwrUBVWv8AD2",
        "outputId": "0def6ded-bf40-4ce6-ac97-d87964fb9f50"
      },
      "id": "lwrUBVWv8AD2",
      "execution_count": null,
      "outputs": [
        {
          "output_type": "stream",
          "name": "stdout",
          "text": [
            "20\n",
            "10\n",
            "30\n",
            "10\n",
            "200\n",
            "2.0\n"
          ]
        }
      ]
    },
    {
      "cell_type": "markdown",
      "id": "ac2063f9",
      "metadata": {
        "id": "ac2063f9"
      },
      "source": [
        "### Response to 4.7"
      ]
    },
    {
      "cell_type": "code",
      "source": [
        "type(x)\n",
        "type(y)\n",
        "type(z1)\n",
        "type(z2)\n",
        "type(z3)\n",
        "type(z4)"
      ],
      "metadata": {
        "colab": {
          "base_uri": "https://localhost:8080/"
        },
        "id": "pE_SAikW8mkr",
        "outputId": "80d8b2ea-214d-48cc-a76d-dad91addf7cf"
      },
      "id": "pE_SAikW8mkr",
      "execution_count": null,
      "outputs": [
        {
          "output_type": "execute_result",
          "data": {
            "text/plain": [
              "float"
            ]
          },
          "metadata": {},
          "execution_count": 24
        }
      ]
    },
    {
      "cell_type": "code",
      "source": [
        "print(type(x))\n",
        "print(type(y))\n",
        "print(type(z1))\n",
        "print(type(z2))\n",
        "print(type(z3))\n",
        "print(type(z4))"
      ],
      "metadata": {
        "colab": {
          "base_uri": "https://localhost:8080/"
        },
        "id": "QARCrmLi73Xv",
        "outputId": "bbc91dae-df42-43ce-f00d-a0b7e3c601c4"
      },
      "id": "QARCrmLi73Xv",
      "execution_count": null,
      "outputs": [
        {
          "output_type": "stream",
          "name": "stdout",
          "text": [
            "<class 'int'>\n",
            "<class 'int'>\n",
            "<class 'int'>\n",
            "<class 'int'>\n",
            "<class 'int'>\n",
            "<class 'float'>\n"
          ]
        }
      ]
    },
    {
      "cell_type": "markdown",
      "source": [
        "response:It seems that the z4 is the only float number, what affects it is we use y to divided x. In python the division have many kinds including '/','//'and '%'.What I used to divided x is '/' this kind of division will reserve or add the float when it caculate the result."
      ],
      "metadata": {
        "id": "1hyWZtX_823A"
      },
      "id": "1hyWZtX_823A"
    },
    {
      "metadata": {
        "id": "2024ad69c823f131"
      },
      "cell_type": "markdown",
      "source": [
        "## Exercise 5 -- String Formatting\n",
        "Complete the following steps in the cell below:\n",
        "1. Define a list called `cities` that contains the names of three cities you would like to visit.\n",
        "2. Define a corresponding list called `countries` where an entry is the country of each of those three cities.\n",
        "3. Using these lists and f strings, print a sentence that says what country a city is in for each city in your list\n",
        "4. Now do the same thing again but use the `.format()` method instead of f strings."
      ],
      "id": "2024ad69c823f131"
    },
    {
      "metadata": {
        "colab": {
          "base_uri": "https://localhost:8080/"
        },
        "id": "4bb3c5643a0ee99e",
        "outputId": "509a6faa-94e2-4e73-94d3-c65f22eb5b4c"
      },
      "cell_type": "code",
      "source": [
        "# Exercise 5 Code\n",
        "cities = [\"Vancouver\",\"New York\",\"London\"]\n",
        "countries = [\"Canada\",\"America\",\"British\"]\n",
        "string1 = f\"{cities[0]} is in {countries[0]}\"\n",
        "print(string1)"
      ],
      "id": "4bb3c5643a0ee99e",
      "outputs": [
        {
          "output_type": "stream",
          "name": "stdout",
          "text": [
            "Vancouver is in Canada\n"
          ]
        }
      ],
      "execution_count": null
    },
    {
      "metadata": {
        "id": "fce68f68177b1995"
      },
      "cell_type": "markdown",
      "source": [
        "## Exercise 6 -- String Concatenation\n",
        "Complete the following steps in the cell below:\n",
        "1. Assign `b` to be equal to \"b\"\n",
        "2. Assign `a` to be equal to \"a\"\n",
        "3. Assign `n` to be equal to \"n\"\n",
        "4. Using these variables, `+`, and `print`, print the the word \"banana\""
      ],
      "id": "fce68f68177b1995"
    },
    {
      "metadata": {
        "id": "7cd33ad42612cc2"
      },
      "cell_type": "code",
      "source": [
        "# Exercise 6 Code\n",
        "b = \"b\"\n",
        "a = \"a\"\n",
        "n = \"n\""
      ],
      "id": "7cd33ad42612cc2",
      "outputs": [],
      "execution_count": null
    },
    {
      "cell_type": "code",
      "source": [
        "print(b+a+n+a+n+a)"
      ],
      "metadata": {
        "colab": {
          "base_uri": "https://localhost:8080/"
        },
        "id": "yguEMTU9AQE6",
        "outputId": "2029fef2-4de9-4e52-a9d2-076306768b82"
      },
      "id": "yguEMTU9AQE6",
      "execution_count": null,
      "outputs": [
        {
          "output_type": "stream",
          "name": "stdout",
          "text": [
            "banana\n"
          ]
        }
      ]
    },
    {
      "metadata": {
        "id": "293a4c9fc698f9d9"
      },
      "cell_type": "markdown",
      "source": [
        "## Exercise 7 -- Boolean Variable Keywords\n",
        "Assign `a`, `b`,`c`, and `d`, so that every print statement below is true.\n",
        "\n",
        "\n",
        "Afterwards, answer the following quesiton in the Markdown cell below:\n",
        "\n",
        "Is the configuration of `a`, `b`,`c`, and `d` that makes both statements true unique? Why or why not? If it isn't unique, add another print statement to the list to rule out other configurations?"
      ],
      "id": "293a4c9fc698f9d9"
    },
    {
      "metadata": {
        "id": "6a5495628c88bf25"
      },
      "cell_type": "code",
      "source": [
        "# Exercise 7 Code\n",
        "a = True\n",
        "b = False\n",
        "c = False\n",
        "d = False"
      ],
      "id": "6a5495628c88bf25",
      "outputs": [],
      "execution_count": 22
    },
    {
      "cell_type": "code",
      "source": [
        "print(a or d)\n",
        "print(b or d)\n",
        "print(c or d)\n",
        "print(d)"
      ],
      "metadata": {
        "colab": {
          "base_uri": "https://localhost:8080/"
        },
        "id": "gVMcxGYR8YM_",
        "outputId": "08277cde-14e6-4c1e-dedf-9c08a13a833f"
      },
      "id": "gVMcxGYR8YM_",
      "execution_count": 18,
      "outputs": [
        {
          "output_type": "stream",
          "name": "stdout",
          "text": [
            "True\n",
            "True\n",
            "True\n",
            "True\n"
          ]
        }
      ]
    },
    {
      "metadata": {
        "id": "5c6037cdfe69c6aa",
        "colab": {
          "base_uri": "https://localhost:8080/"
        },
        "outputId": "2f1b13cb-d36b-4136-b0c6-2bb1d72aa401"
      },
      "cell_type": "code",
      "source": [
        "# Uncomment the lines below when you have defined the variables to check your results\n",
        "print(((a and b) or (c and d)) == False)\n",
        "print(((a or c) and (b or d)) == False)\n",
        "print(a and (not b) and (not c) and (not d))"
      ],
      "id": "5c6037cdfe69c6aa",
      "outputs": [
        {
          "output_type": "stream",
          "name": "stdout",
          "text": [
            "True\n",
            "True\n",
            "True\n"
          ]
        }
      ],
      "execution_count": 23
    },
    {
      "cell_type": "markdown",
      "source": [
        "It is not unique."
      ],
      "metadata": {
        "id": "QA9S10otIwa0"
      },
      "id": "QA9S10otIwa0"
    }
  ],
  "metadata": {
    "kernelspec": {
      "display_name": "Python 3 (ipykernel)",
      "language": "python",
      "name": "python3"
    },
    "language_info": {
      "codemirror_mode": {
        "name": "ipython",
        "version": 3
      },
      "file_extension": ".py",
      "mimetype": "text/x-python",
      "name": "python",
      "nbconvert_exporter": "python",
      "pygments_lexer": "ipython3",
      "version": "3.9.15"
    },
    "colab": {
      "provenance": []
    }
  },
  "nbformat": 4,
  "nbformat_minor": 5
}