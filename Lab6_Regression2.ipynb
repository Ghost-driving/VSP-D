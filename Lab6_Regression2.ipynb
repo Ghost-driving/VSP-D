{
  "cells": [
    {
      "cell_type": "markdown",
      "metadata": {
        "id": "view-in-github",
        "colab_type": "text"
      },
      "source": [
        "<a href=\"https://colab.research.google.com/github/Ghost-driving/VSP-D/blob/main/Lab6_Regression2.ipynb\" target=\"_parent\"><img src=\"https://colab.research.google.com/assets/colab-badge.svg\" alt=\"Open In Colab\"/></a>"
      ]
    },
    {
      "cell_type": "markdown",
      "id": "56fb16cb",
      "metadata": {
        "id": "56fb16cb"
      },
      "source": [
        "## Lab Assignment 6 -- Regression\n",
        "In this lab, you will complete an exercises related to the lecture material on regression. Then, you will compete with your fellow classmates to see who can best predict housing prices.\n",
        "\n",
        "**IMPORTANT:** Before submitting, make sure you restart the kernel and run all cells sequentially. After all cells have executed, then save the file for submission.  This is very important for grading."
      ]
    },
    {
      "cell_type": "code",
      "id": "3fa22484",
      "metadata": {
        "id": "3fa22484"
      },
      "source": [
        "# Don't change this line\n",
        "import numpy as np\n",
        "import matplotlib.pyplot as plt\n",
        "from sklearn import metrics\n",
        "import pandas as pd\n",
        "np.random.seed(35)"
      ],
      "outputs": [],
      "execution_count": 1
    },
    {
      "cell_type": "markdown",
      "id": "a8137271",
      "metadata": {
        "id": "a8137271"
      },
      "source": [
        "## Exercise 1 -- Generating & Analyzing Fake Data\n",
        "In this exercise, we will generate some fake data as we did in the lecture on regression trees. Then, we will use it on a series of regression problems."
      ]
    },
    {
      "cell_type": "markdown",
      "id": "509af2e9",
      "metadata": {
        "id": "509af2e9"
      },
      "source": [
        "## Exercise 1a -- Generating the Data\n",
        "Complete the following steps:\n",
        "1. Define a function called `generate_data` that takes two arguments, an integer `n` and a boolean `square`. `square` should have a default argument of `False`.\n",
        "2. Generate an array called `X` and set it equal to `np.random.randn((n,1))`. This creates an $n$-vector of [**standard normal random variables**](https://en.wikipedia.org/wiki/Normal_distribution).\n",
        "3. Turn `X` into an $nx2$ array by concatenating it with an $n$-vector of ones (**Hint**: use `np.ones((n,1))` and `np.concatenate()`). Make sure that the array of ones serves as the first column.\n",
        "3. Define an array called `beta` and set it equal to the array [1, 3.14]\n",
        "4. Define a variable called `epsilon` and set it equal to `np.random.randn(n)*0.3`\n",
        "5. Then, using `X`, `beta`, and `epsilon`, create a variable named `y` which is equal to\n",
        "    - `np.matmul(X, beta) + epsilon` if square is `False`\n",
        "    - `np.matmul(X ** 2, beta) + epsilon` if `square` is `True`.\n",
        "    \n",
        "6. Your output should return `X`and `y`\n",
        "7. Test your function in the cell below with `n=100` and no argument for `square`. Save the output to `X100` and `y100` respectively. Afterwards, print `y100[50]`.\n",
        "\n",
        "Answer the following questions in the Markdown cell below:\n",
        "1. Is this a bivariate or multivariate linear regression model? Why?\n",
        "2. What is the purpose of  including this `epsilon`? What aspect of real data are we trying to mimic?"
      ]
    },
    {
      "cell_type": "code",
      "source": [
        "import numpy as np\n",
        "\n",
        "def generate_data(n, square=False):\n",
        "    X = np.random.randn(n, 1)\n",
        "    X = np.concatenate((np.ones((n, 1)), X), axis=1)\n",
        "    beta = np.array([1, 3.14])\n",
        "    epsilon = np.random.randn(n) * 0.3\n",
        "\n",
        "    if square:\n",
        "        y = np.matmul(X ** 2, beta) + epsilon\n",
        "    else:\n",
        "        y = np.matmul(X, beta) + epsilon\n",
        "\n",
        "    return X, y"
      ],
      "metadata": {
        "id": "xoMKo3DW-gy1"
      },
      "id": "xoMKo3DW-gy1",
      "execution_count": 2,
      "outputs": []
    },
    {
      "cell_type": "code",
      "id": "c847213c",
      "metadata": {
        "colab": {
          "base_uri": "https://localhost:8080/"
        },
        "id": "c847213c",
        "outputId": "e841a79c-baab-4604-f80b-17eb6c23ffdb"
      },
      "source": [
        "# Exercise 1a -- Test function and print\n",
        "X100, y100 = generate_data(100)\n",
        "print(y100[50])"
      ],
      "outputs": [
        {
          "output_type": "stream",
          "name": "stdout",
          "text": [
            "-2.855072207243597\n"
          ]
        }
      ],
      "execution_count": 3
    },
    {
      "cell_type": "markdown",
      "id": "d9d47ea4",
      "metadata": {
        "id": "d9d47ea4"
      },
      "source": [
        "### Reponse to Exercise 1a\n",
        "This is a bivariate linear regression model. The term \"bivariate\" refers to the relationship between the dependent variable and the single independent variable.\n",
        "\n",
        "The purpose of including epsilon is to introduce randomness or noise into the data. By adding epsilon, the synthetic data better mimics these real-world imperfections, making the model more realistic and robust for practical applications."
      ]
    },
    {
      "cell_type": "markdown",
      "id": "be3ee923",
      "metadata": {
        "id": "be3ee923"
      },
      "source": [
        "## Exercise 1b -- Standard Linear Regression\n",
        "Using `sklearn`, fit a linear regression model on `y100` and `X100`. When intializing your model, set `fit_intercept` equal to `False` and call your linear model `lr_model_1`. Then, print the estimated coefficients and answer the following question in the Markdown cell below.\n",
        "- What are the coefficient estimates? What values are they close to? Why does this make sense?\n",
        "\n"
      ]
    },
    {
      "cell_type": "code",
      "id": "f9955e7f",
      "metadata": {
        "colab": {
          "base_uri": "https://localhost:8080/"
        },
        "id": "f9955e7f",
        "outputId": "95bde746-699b-4ae8-d20e-5a526e3409cb"
      },
      "source": [
        "# Exercise 1b -- fit regression\n",
        "from sklearn.linear_model import LinearRegression\n",
        "lr_model_1 = LinearRegression(fit_intercept=False)\n",
        "lr_model_1.fit(X100, y100)\n",
        "print(\"Estimated coefficients:\", lr_model_1.coef_)"
      ],
      "outputs": [
        {
          "output_type": "stream",
          "name": "stdout",
          "text": [
            "Estimated coefficients: [1.01335663 3.18589237]\n"
          ]
        }
      ],
      "execution_count": 4
    },
    {
      "cell_type": "markdown",
      "id": "d0d5d044",
      "metadata": {
        "id": "d0d5d044"
      },
      "source": [
        "### Response to Exercise 1b\n",
        "The estimated coefficients should be close to the values in the beta array that was used to generate the data.\n",
        "\n",
        "The estimated coefficients should be approximately [1, 3.14].\n",
        "\n",
        "The reason these estimates are close to [1, 3.14] is that the data was generated using these exact coefficients with some added noise (epsilon)."
      ]
    },
    {
      "cell_type": "markdown",
      "id": "085c9960",
      "metadata": {
        "id": "085c9960"
      },
      "source": [
        "## Exercise 1c -- Linear Regression with Quadratic Terms\n",
        "Using `generate_data(100, True)`, create two variables `y100_2` and `X100_2`. Then, repeat the steps from **Exercise 1b** above using `X100_2` and `y100_2` instead of `X_100` and `y_100`.  Call your new model `linear_model_2`.\n",
        "\n",
        "Answer the following questions in the Markdown cell below:\n",
        "\n",
        "1. What are the coefficient estimates? Are they similar to the coefficients from **Exercise 1b**? Why or why not?\n",
        "\n",
        "If your estimates were not similar, create a variable `X100_2_sq` in the third cell below that can be used instead of `X100_2` so that your estimates are similar again. Repeat the same process again but call your `lr_model_3`. Print your new estimated coefficients.\n",
        "\n",
        "In the markdown cell below, answer the following question:\n",
        "\n",
        "2. How did you modify `X100_2` to attain similar coefficients? Why did this work?"
      ]
    },
    {
      "cell_type": "code",
      "id": "be504991",
      "metadata": {
        "id": "be504991",
        "colab": {
          "base_uri": "https://localhost:8080/"
        },
        "outputId": "73b76a48-cd43-47c0-a193-7a64e99cdcef"
      },
      "source": [
        "# Exercise 1c -- generate variables and repeat regression fit\n",
        "X100_2, y100_2 = generate_data(100, True)\n",
        "linear_model_2 = LinearRegression(fit_intercept=False)\n",
        "linear_model_2.fit(X100_2, y100_2)\n",
        "print(linear_model_2.coef_)"
      ],
      "outputs": [
        {
          "output_type": "stream",
          "name": "stdout",
          "text": [
            "[3.96585832 0.83947215]\n"
          ]
        }
      ],
      "execution_count": 5
    },
    {
      "cell_type": "markdown",
      "id": "064117e4",
      "metadata": {
        "id": "064117e4"
      },
      "source": [
        "### Response to Exercise 1c -- Question 1\n",
        "They are not similar to the cofficients from exercise 1b."
      ]
    },
    {
      "cell_type": "code",
      "id": "af3c6cd1",
      "metadata": {
        "id": "af3c6cd1",
        "colab": {
          "base_uri": "https://localhost:8080/"
        },
        "outputId": "dc3ce535-cfa1-4a3e-afbe-2d3aaa5f80ae"
      },
      "source": [
        "# Exercise 1c -- modify X100_2 and run new regression\n",
        "X100_2_sq = np.concatenate((X100_2[:, 0:1], X100_2[:, 1:2] ** 2), axis=1)\n",
        "lr_model_3 = LinearRegression(fit_intercept=False)\n",
        "lr_model_3.fit(X100_2_sq, y100_2)\n",
        "print(lr_model_3.coef_)"
      ],
      "outputs": [
        {
          "output_type": "stream",
          "name": "stdout",
          "text": [
            "[0.99205242 3.11570564]\n"
          ]
        }
      ],
      "execution_count": 6
    },
    {
      "cell_type": "markdown",
      "id": "ad67e55d",
      "metadata": {
        "id": "ad67e55d"
      },
      "source": [
        "### Response to Exercise 1c -- Quesiton 2\n",
        "I modified X100_2 by squaring the values in the second column."
      ]
    },
    {
      "cell_type": "markdown",
      "id": "bebaa1d3",
      "metadata": {
        "id": "bebaa1d3"
      },
      "source": [
        "### Exercise 1d -- Unnecessary Quadratic Terms\n",
        "Now we are going to see what happens when we estimate a model that only has linear terms using both linear and quadratic terms. Complete the following steps:\n",
        "1. Create an $nx3$ array called `X100_ext` by concatenating `X100` with a column that is equal to the square of elements in the second column. Make sure this new column is the third column. Note that `np.concatenate` requires that both arrays are of the same dimension. You may have to use the method [`.reshape()`](https://numpy.org/doc/stable/reference/generated/numpy.reshape.html).\n",
        "2. Now repeat the steps of **Exercise 1b** with `X100_ext`. Make sure you print the estimated coefficients.\n",
        "\n",
        "Answer the following questions in the Markdown cell below:\n",
        "1. Are the first two coefficients different from their respective counterparts in part **Exercise 1b**? Why do you think this is?\n",
        "2.  Is the third coeffcient close to 0 or large? Why do you think this is?\n",
        "3. Do you think these estimates are accurate?"
      ]
    },
    {
      "cell_type": "code",
      "id": "ba894f15",
      "metadata": {
        "scrolled": true,
        "id": "ba894f15"
      },
      "source": [
        "# Exercise 1d -- Create X100_ext here\n",
        "X100_ext = np.concatenate((X100, X100[:, 1:2] ** 2), axis=1)"
      ],
      "outputs": [],
      "execution_count": 7
    },
    {
      "cell_type": "code",
      "id": "50115717",
      "metadata": {
        "id": "50115717",
        "colab": {
          "base_uri": "https://localhost:8080/"
        },
        "outputId": "fb1e4f37-d9a5-4445-8352-6c677b0cf63a"
      },
      "source": [
        "# Exercise 1d -- Repeat exercise 1b here\n",
        "linear_model_ext = LinearRegression(fit_intercept=False)\n",
        "linear_model_ext.fit(X100_ext, y100)\n",
        "print(linear_model_ext.coef_)"
      ],
      "outputs": [
        {
          "output_type": "stream",
          "name": "stdout",
          "text": [
            "[ 1.02282831  3.18470138 -0.00810062]\n"
          ]
        }
      ],
      "execution_count": 8
    },
    {
      "cell_type": "markdown",
      "id": "a18eab25",
      "metadata": {
        "id": "a18eab25"
      },
      "source": [
        "### Response to Exercise 1d\n",
        "Yes, the first two coefficients might be different from those in Exercise 1b. This is because the new model includes an additional term.\n",
        "\n",
        "The third coefficient is likely to be large because the true data-generating process includes a quadratic term.\n",
        "\n",
        "Yes, these estimates should be more accurate compared to a model without the quadratic term, as the extended model more accurately represents the true data-generating process."
      ]
    },
    {
      "cell_type": "markdown",
      "id": "7b3fd11d",
      "metadata": {
        "id": "7b3fd11d"
      },
      "source": [
        "## Exercise 1e -- Regression Plots\n",
        "Following the notes in the plotting lectures complete the following steps:\n",
        "1. Using `subplots()` initialize a figure with 4 figures in a $2x2$ grid\n",
        "2. Plot the following in the indicated location.\n",
        "    - **Top-left**  -- a line plot of `lr_model_1` and a scatter plot of the data used to generate `lr_model_1`.\n",
        "    - **Bottom-left**  -- a line plot of `lr_model_2` and a scatter plot of the data used to generate `lr_model_2`\n",
        "    - **Bottom-right** -- a line plot of `lr_model_3` and a scatter plot of the data used to generate `lr_model_3`\n",
        "    - **Top-right** -- a line plot of `lr_model_4` and a scatter plot of the data used to generate `lr_model_4`\n",
        "    \n",
        "For the plots above,\n",
        "- make your lines red,\n",
        "- title your plots (e.g. \"Linear Model 1\"),\n",
        "- use `np.linspace(-4,4,200)` as your domain when plotting the lines,\n",
        "- call `fig.tight_layout()` so your plot is not cluttered\n",
        "\n",
        "3. Using the `metrics` submodule of `sklearn`, print the `in-sample` mean squared errors of each model using f strings. Your stings should looke like this: \"MSE of Linear Model 1 is .3\"  \n",
        "**Hints:** .\n",
        "- To plot on the top left axis, you will need to work with `axes.flat[0]` . The remaining axes are indexed by 1, 2, and 3.\n",
        "- If you choose to used the `.predict()` to plot your lines, keep in mind you need to provide it with the correctly shaped input.\n",
        "- When calculating the means within a loop, it may hep to create a list that contains the four linear models.\n"
      ]
    },
    {
      "cell_type": "code",
      "id": "06bb2cad",
      "metadata": {
        "scrolled": false,
        "id": "06bb2cad",
        "colab": {
          "base_uri": "https://localhost:8080/",
          "height": 1000
        },
        "outputId": "58cb8fe2-265f-464c-8a47-dec1411f5c7c"
      },
      "source": [
        "# Exercise 1e -- plots\n",
        "fig, axs = plt.subplots(2, 2, figsize=(10, 10))\n",
        "\n",
        "lr_model_1 = LinearRegression(fit_intercept=False).fit(X100, y100)\n",
        "lr_model_2 = LinearRegression(fit_intercept=False).fit(X100_2, y100_2)\n",
        "lr_model_3 = LinearRegression(fit_intercept=False).fit(X100_2_sq, y100_2)\n",
        "lr_model_4 = LinearRegression(fit_intercept=False).fit(X100_ext, y100)\n",
        "\n",
        "x_domain = np.linspace(-4, 4, 200).reshape(-1, 1)\n",
        "X_domain_1 = np.concatenate((np.ones((200, 1)), x_domain), axis=1)\n",
        "X_domain_2 = np.concatenate((np.ones((200, 1)), x_domain ** 2), axis=1)\n",
        "X_domain_ext = np.concatenate((np.ones((200, 1)), x_domain, x_domain ** 2), axis=1)\n",
        "\n",
        "axs[0, 0].scatter(X100[:, 1], y100, label='Data', color='blue')\n",
        "axs[0, 0].plot(x_domain, lr_model_1.predict(X_domain_1), label='Model', color='red')\n",
        "axs[0, 0].set_title(\"Linear Model 1\")\n",
        "axs[0, 0].legend()\n",
        "axs[1, 0].scatter(X100_2[:, 1], y100_2, label='Data', color='blue')\n",
        "axs[1, 0].plot(x_domain, lr_model_2.predict(X_domain_1), label='Model', color='red')\n",
        "axs[1, 0].set_title(\"Linear Model 2\")\n",
        "axs[1, 0].legend()\n",
        "axs[1, 1].scatter(X100_2[:, 1], y100_2, label='Data', color='blue')\n",
        "axs[1, 1].plot(x_domain, lr_model_3.predict(X_domain_2), label='Model', color='red')\n",
        "axs[1, 1].set_title(\"Linear Model 3\")\n",
        "axs[1, 1].legend()\n",
        "axs[0, 1].scatter(X100[:, 1], y100, label='Data', color='blue')\n",
        "axs[0, 1].plot(x_domain, lr_model_4.predict(X_domain_ext), label='Model', color='red')\n",
        "axs[0, 1].set_title(\"Linear Model 4\")\n",
        "axs[0, 1].legend()\n",
        "\n",
        "fig.tight_layout()\n",
        "plt.show()"
      ],
      "outputs": [
        {
          "output_type": "display_data",
          "data": {
            "text/plain": [
              "<Figure size 1000x1000 with 4 Axes>"
            ],
            "image/png": "[encoded data removed]"
          },
          "metadata": {}
        }
      ],
      "execution_count": 9
    },
    {
      "cell_type": "code",
      "id": "83de691e",
      "metadata": {
        "scrolled": true,
        "id": "83de691e",
        "colab": {
          "base_uri": "https://localhost:8080/"
        },
        "outputId": "aff03e8f-b17d-43e4-d7ac-63abf0320bad"
      },
      "source": [
        "# Exercise 1e -- mean squared errors\n",
        "from sklearn.metrics import mean_squared_error\n",
        "\n",
        "mse_1 = mean_squared_error(y100, lr_model_1.predict(X100))\n",
        "mse_2 = mean_squared_error(y100_2, lr_model_2.predict(X100_2))\n",
        "mse_3 = mean_squared_error(y100_2, lr_model_3.predict(X100_2_sq))\n",
        "mse_4 = mean_squared_error(y100, lr_model_4.predict(X100_ext))\n",
        "\n",
        "print(f\"MSE of Linear Model 1 is {mse_1}\")\n",
        "print(f\"MSE of Linear Model 2 is {mse_2}\")\n",
        "print(f\"MSE of Linear Model 3 is {mse_3}\")\n",
        "print(f\"MSE of Linear Model 4 is {mse_4}\")"
      ],
      "outputs": [
        {
          "output_type": "stream",
          "name": "stdout",
          "text": [
            "MSE of Linear Model 1 is 0.09966753586296723\n",
            "MSE of Linear Model 2 is 15.66747709443905\n",
            "MSE of Linear Model 3 is 0.09253108343350017\n",
            "MSE of Linear Model 4 is 0.09949137770671035\n"
          ]
        }
      ],
      "execution_count": 15
    },
    {
      "cell_type": "markdown",
      "id": "81baa272",
      "metadata": {
        "id": "81baa272"
      },
      "source": [
        "### Exercise 1f -- Functional Misspecification\n",
        "**Functional Misspecification** is used to describe the situation where the functional form of the regression model we are estimating is not the same as the functional form of the true data generating process. Answer the following question in the markdown cell below:\n",
        "- Which of the four linear models do you think are well-specified? Which ones are not? Is including extra terms problematic when it comes to being well-specified. What about excluding the terms found in the true data generating process?\n",
        "- How does misspecification manifest itself in the plots? How about in the mean squared errors?\n",
        "- After doing this exercise, do you think it is important to investigate the relationship between variables before determining your regression specification? Why or why not?"
      ]
    },
    {
      "cell_type": "markdown",
      "id": "03d3f378",
      "metadata": {
        "id": "03d3f378"
      },
      "source": [
        "### Response to Exercise 1f\n",
        "Linear Model 1 and Linear Model 3 are well-specified.\n",
        "Linear Model 2 and Linear Model 4 are not well-specified.\n",
        "\n",
        "Excluding Necessary Terms: Missing important terms\n",
        "1,like the quadratic term in Model\n",
        "2,leads to underfitting, where the model fails to capture the true data pattern.\n",
        "\n",
        "Investigating the relationships between variables helps ensure you choose the right model, leading to better and more reliable results.\n",
        "\n",
        "\n",
        "\n",
        "\n",
        "\n",
        "\n"
      ]
    },
    {
      "cell_type": "markdown",
      "id": "77c7d5c8",
      "metadata": {
        "id": "77c7d5c8"
      },
      "source": [
        "### Exercise 1g -- Lasso\n",
        "Finally, we will run lasso on our fake data. Complete the following steps:\n",
        "1. Generate `X1000` and `y1000` using `generate_data(1000)`\n",
        "2. Create an `1000x3` array called `X1000_ext` which is created in a anaglous fashion to `X100_ext`.\n",
        "3. Follow the lecture notes to create a standardized version of `X1000_ext` called `X1000_ext_scl`. You will need to import the `preprocessing` submodule of sklearn.\n",
        "4. Check to make sure your means and variances. You should see that everything looks good except for our intercept has a variance of $0$. You actually do not want to standardize an intercept but we still need it! Replace the first column of  `X1000_ext_scl` with a fresh column of ones using `np.ones(1000)`.\n",
        "5. Create a dataframe version of `X1000_ext_scl` called `X_lasso_df` and rename the columns to \"intercept\", \"x\", and \"x_sq\" respectively.Then call `X_lasso_df` at the bottom of the cell.\n",
        "6. Copy and paste the Lasso path code from the lecture notes into the second cell below. Adapt it so it works for `X_lasso_df` and `y1000`.\n",
        "\n",
        "\n",
        "In the Markdown cell below, answer the following questions:\n",
        "1. Characterize `X_sq`'s lasso path. Why was this behavior predictable?    Reference linear model 4 or the true DGP in your answer.\n",
        "2. Without checking, do you think a low or high value for alpha would be chosen by cross validation? To help you answer this question, think about what the true coefficients are and whether or not higher alphas bring the lasso coefficients closer to their true counterparts or farther away."
      ]
    },
    {
      "cell_type": "code",
      "id": "c250202b",
      "metadata": {
        "scrolled": false,
        "id": "c250202b"
      },
      "source": [
        "# Exercise 1g -- Steps 1-5\n",
        "from sklearn.datasets import make_regression\n",
        "def generate_data(n):\n",
        "    X, y = make_regression(n_samples=n, n_features=2, noise=0.1, random_state=42)\n",
        "    return X, y\n",
        "X1000, y1000 = generate_data(1000)"
      ],
      "outputs": [],
      "execution_count": 16
    },
    {
      "cell_type": "code",
      "id": "4cfec5de",
      "metadata": {
        "scrolled": false,
        "id": "4cfec5de",
        "colab": {
          "base_uri": "https://localhost:8080/",
          "height": 459
        },
        "outputId": "f61785b7-1bdc-4b52-d490-e45f84346e77"
      },
      "source": [
        "# Exercise 1g -- Step 5 copy code here\n",
        "from sklearn.preprocessing import StandardScaler\n",
        "X1000_ext = np.hstack([np.ones((X1000.shape[0], 1)), X1000, X1000**2])\n",
        "print(X1000_ext.shape)\n",
        "scaler = StandardScaler()\n",
        "X1000_ext_scl = scaler.fit_transform(X1000_ext)\n",
        "print(X1000_ext_scl.shape)\n",
        "X1000_ext_scl[:, 0] = 1\n",
        "\n",
        "X_lasso_df = pd.DataFrame(X1000_ext_scl, columns=[\"intercept\", \"x1\", \"x2\", \"x1_sq\", \"x2_sq\"])\n",
        "X_lasso_df"
      ],
      "outputs": [
        {
          "output_type": "stream",
          "name": "stdout",
          "text": [
            "(1000, 5)\n",
            "(1000, 5)\n"
          ]
        },
        {
          "output_type": "execute_result",
          "data": {
            "text/plain": [
              "     intercept        x1        x2     x1_sq     x2_sq\n",
              "0          1.0 -0.208407  0.088453 -0.676060 -0.685557\n",
              "1          1.0 -0.056276  0.059486 -0.696781 -0.690819\n",
              "2          1.0  0.121975  0.303591 -0.680056 -0.609820\n",
              "3          1.0  0.543550  0.032134 -0.464431 -0.694713\n",
              "4          1.0  0.026035 -1.182858 -0.694557  0.185844\n",
              "..         ...       ...       ...       ...       ...\n",
              "995        1.0 -0.818991 -0.332847 -0.268632 -0.646727\n",
              "996        1.0 -2.295083  0.779179  2.860957 -0.213117\n",
              "997        1.0  0.280349 -0.799701 -0.628076 -0.314300\n",
              "998        1.0  0.362856  0.367745 -0.587158 -0.574730\n",
              "999        1.0  0.045969 -0.905185 -0.692599 -0.197053\n",
              "\n",
              "[1000 rows x 5 columns]"
            ],
            "text/html": [
              "\n",
              "  <div id=\"df-4982500a-53d8-4a43-942d-e475827b4c6d\" class=\"colab-df-container\">\n",
              "    <div>\n",
              "<style scoped>\n",
              "    .dataframe tbody tr th:only-of-type {\n",
              "        vertical-align: middle;\n",
              "    }\n",
              "\n",
              "    .dataframe tbody tr th {\n",
              "        vertical-align: top;\n",
              "    }\n",
              "\n",
              "    .dataframe thead th {\n",
              "        text-align: right;\n",
              "    }\n",
              "</style>\n",
              "<table border=\"1\" class=\"dataframe\">\n",
              "  <thead>\n",
              "    <tr style=\"text-align: right;\">\n",
              "      <th></th>\n",
              "      <th>intercept</th>\n",
              "      <th>x1</th>\n",
              "      <th>x2</th>\n",
              "      <th>x1_sq</th>\n",
              "      <th>x2_sq</th>\n",
              "    </tr>\n",
              "  </thead>\n",
              "  <tbody>\n",
              "    <tr>\n",
              "      <th>0</th>\n",
              "      <td>1.0</td>\n",
              "      <td>-0.208407</td>\n",
              "      <td>0.088453</td>\n",
              "      <td>-0.676060</td>\n",
              "      <td>-0.685557</td>\n",
              "    </tr>\n",
              "    <tr>\n",
              "      <th>1</th>\n",
              "      <td>1.0</td>\n",
              "      <td>-0.056276</td>\n",
              "      <td>0.059486</td>\n",
              "      <td>-0.696781</td>\n",
              "      <td>-0.690819</td>\n",
              "    </tr>\n",
              "    <tr>\n",
              "      <th>2</th>\n",
              "      <td>1.0</td>\n",
              "      <td>0.121975</td>\n",
              "      <td>0.303591</td>\n",
              "      <td>-0.680056</td>\n",
              "      <td>-0.609820</td>\n",
              "    </tr>\n",
              "    <tr>\n",
              "      <th>3</th>\n",
              "      <td>1.0</td>\n",
              "      <td>0.543550</td>\n",
              "      <td>0.032134</td>\n",
              "      <td>-0.464431</td>\n",
              "      <td>-0.694713</td>\n",
              "    </tr>\n",
              "    <tr>\n",
              "      <th>4</th>\n",
              "      <td>1.0</td>\n",
              "      <td>0.026035</td>\n",
              "      <td>-1.182858</td>\n",
              "      <td>-0.694557</td>\n",
              "      <td>0.185844</td>\n",
              "    </tr>\n",
              "    <tr>\n",
              "      <th>...</th>\n",
              "      <td>...</td>\n",
              "      <td>...</td>\n",
              "      <td>...</td>\n",
              "      <td>...</td>\n",
              "      <td>...</td>\n",
              "    </tr>\n",
              "    <tr>\n",
              "      <th>995</th>\n",
              "      <td>1.0</td>\n",
              "      <td>-0.818991</td>\n",
              "      <td>-0.332847</td>\n",
              "      <td>-0.268632</td>\n",
              "      <td>-0.646727</td>\n",
              "    </tr>\n",
              "    <tr>\n",
              "      <th>996</th>\n",
              "      <td>1.0</td>\n",
              "      <td>-2.295083</td>\n",
              "      <td>0.779179</td>\n",
              "      <td>2.860957</td>\n",
              "      <td>-0.213117</td>\n",
              "    </tr>\n",
              "    <tr>\n",
              "      <th>997</th>\n",
              "      <td>1.0</td>\n",
              "      <td>0.280349</td>\n",
              "      <td>-0.799701</td>\n",
              "      <td>-0.628076</td>\n",
              "      <td>-0.314300</td>\n",
              "    </tr>\n",
              "    <tr>\n",
              "      <th>998</th>\n",
              "      <td>1.0</td>\n",
              "      <td>0.362856</td>\n",
              "      <td>0.367745</td>\n",
              "      <td>-0.587158</td>\n",
              "      <td>-0.574730</td>\n",
              "    </tr>\n",
              "    <tr>\n",
              "      <th>999</th>\n",
              "      <td>1.0</td>\n",
              "      <td>0.045969</td>\n",
              "      <td>-0.905185</td>\n",
              "      <td>-0.692599</td>\n",
              "      <td>-0.197053</td>\n",
              "    </tr>\n",
              "  </tbody>\n",
              "</table>\n",
              "<p>1000 rows × 5 columns</p>\n",
              "</div>\n",
              "    <div class=\"colab-df-buttons\">\n",
              "\n",
              "  <div class=\"colab-df-container\">\n",
              "    <button class=\"colab-df-convert\" onclick=\"convertToInteractive('df-4982500a-53d8-4a43-942d-e475827b4c6d')\"\n",
              "            title=\"Convert this dataframe to an interactive table.\"\n",
              "            style=\"display:none;\">\n",
              "\n",
              "  <svg xmlns=\"http://www.w3.org/2000/svg\" height=\"24px\" viewBox=\"0 -960 960 960\">\n",
              "    <path d=\"M120-120v-720h720v720H120Zm60-500h600v-160H180v160Zm220 220h160v-160H400v160Zm0 220h160v-160H400v160ZM180-400h160v-160H180v160Zm440 0h160v-160H620v160ZM180-180h160v-160H180v160Zm440 0h160v-160H620v160Z\"/>\n",
              "  </svg>\n",
              "    </button>\n",
              "\n",
              "  <style>\n",
              "    .colab-df-container {\n",
              "      display:flex;\n",
              "      gap: 12px;\n",
              "    }\n",
              "\n",
              "    .colab-df-convert {\n",
              "      background-color: #E8F0FE;\n",
              "      border: none;\n",
              "      border-radius: 50%;\n",
              "      cursor: pointer;\n",
              "      display: none;\n",
              "      fill: #1967D2;\n",
              "      height: 32px;\n",
              "      padding: 0 0 0 0;\n",
              "      width: 32px;\n",
              "    }\n",
              "\n",
              "    .colab-df-convert:hover {\n",
              "      background-color: #E2EBFA;\n",
              "      box-shadow: 0px 1px 2px rgba(60, 64, 67, 0.3), 0px 1px 3px 1px rgba(60, 64, 67, 0.15);\n",
              "      fill: #174EA6;\n",
              "    }\n",
              "\n",
              "    .colab-df-buttons div {\n",
              "      margin-bottom: 4px;\n",
              "    }\n",
              "\n",
              "    [theme=dark] .colab-df-convert {\n",
              "      background-color: #3B4455;\n",
              "      fill: #D2E3FC;\n",
              "    }\n",
              "\n",
              "    [theme=dark] .colab-df-convert:hover {\n",
              "      background-color: #434B5C;\n",
              "      box-shadow: 0px 1px 3px 1px rgba(0, 0, 0, 0.15);\n",
              "      filter: drop-shadow(0px 1px 2px rgba(0, 0, 0, 0.3));\n",
              "      fill: #FFFFFF;\n",
              "    }\n",
              "  </style>\n",
              "\n",
              "    <script>\n",
              "      const buttonEl =\n",
              "        document.querySelector('#df-4982500a-53d8-4a43-942d-e475827b4c6d button.colab-df-convert');\n",
              "      buttonEl.style.display =\n",
              "        google.colab.kernel.accessAllowed ? 'block' : 'none';\n",
              "\n",
              "      async function convertToInteractive(key) {\n",
              "        const element = document.querySelector('#df-4982500a-53d8-4a43-942d-e475827b4c6d');\n",
              "        const dataTable =\n",
              "          await google.colab.kernel.invokeFunction('convertToInteractive',\n",
              "                                                    [key], {});\n",
              "        if (!dataTable) return;\n",
              "\n",
              "        const docLinkHtml = 'Like what you see? Visit the ' +\n",
              "          '<a target=\"_blank\" href=https://colab.research.google.com/notebooks/data_table.ipynb>data table notebook</a>'\n",
              "          + ' to learn more about interactive tables.';\n",
              "        element.innerHTML = '';\n",
              "        dataTable['output_type'] = 'display_data';\n",
              "        await google.colab.output.renderOutput(dataTable, element);\n",
              "        const docLink = document.createElement('div');\n",
              "        docLink.innerHTML = docLinkHtml;\n",
              "        element.appendChild(docLink);\n",
              "      }\n",
              "    </script>\n",
              "  </div>\n",
              "\n",
              "\n",
              "<div id=\"df-5a9bac4f-ef11-415c-a64c-0e675bd1c403\">\n",
              "  <button class=\"colab-df-quickchart\" onclick=\"quickchart('df-5a9bac4f-ef11-415c-a64c-0e675bd1c403')\"\n",
              "            title=\"Suggest charts\"\n",
              "            style=\"display:none;\">\n",
              "\n",
              "<svg xmlns=\"http://www.w3.org/2000/svg\" height=\"24px\"viewBox=\"0 0 24 24\"\n",
              "     width=\"24px\">\n",
              "    <g>\n",
              "        <path d=\"M19 3H5c-1.1 0-2 .9-2 2v14c0 1.1.9 2 2 2h14c1.1 0 2-.9 2-2V5c0-1.1-.9-2-2-2zM9 17H7v-7h2v7zm4 0h-2V7h2v10zm4 0h-2v-4h2v4z\"/>\n",
              "    </g>\n",
              "</svg>\n",
              "  </button>\n",
              "\n",
              "<style>\n",
              "  .colab-df-quickchart {\n",
              "      --bg-color: #E8F0FE;\n",
              "      --fill-color: #1967D2;\n",
              "      --hover-bg-color: #E2EBFA;\n",
              "      --hover-fill-color: #174EA6;\n",
              "      --disabled-fill-color: #AAA;\n",
              "      --disabled-bg-color: #DDD;\n",
              "  }\n",
              "\n",
              "  [theme=dark] .colab-df-quickchart {\n",
              "      --bg-color: #3B4455;\n",
              "      --fill-color: #D2E3FC;\n",
              "      --hover-bg-color: #434B5C;\n",
              "      --hover-fill-color: #FFFFFF;\n",
              "      --disabled-bg-color: #3B4455;\n",
              "      --disabled-fill-color: #666;\n",
              "  }\n",
              "\n",
              "  .colab-df-quickchart {\n",
              "    background-color: var(--bg-color);\n",
              "    border: none;\n",
              "    border-radius: 50%;\n",
              "    cursor: pointer;\n",
              "    display: none;\n",
              "    fill: var(--fill-color);\n",
              "    height: 32px;\n",
              "    padding: 0;\n",
              "    width: 32px;\n",
              "  }\n",
              "\n",
              "  .colab-df-quickchart:hover {\n",
              "    background-color: var(--hover-bg-color);\n",
              "    box-shadow: 0 1px 2px rgba(60, 64, 67, 0.3), 0 1px 3px 1px rgba(60, 64, 67, 0.15);\n",
              "    fill: var(--button-hover-fill-color);\n",
              "  }\n",
              "\n",
              "  .colab-df-quickchart-complete:disabled,\n",
              "  .colab-df-quickchart-complete:disabled:hover {\n",
              "    background-color: var(--disabled-bg-color);\n",
              "    fill: var(--disabled-fill-color);\n",
              "    box-shadow: none;\n",
              "  }\n",
              "\n",
              "  .colab-df-spinner {\n",
              "    border: 2px solid var(--fill-color);\n",
              "    border-color: transparent;\n",
              "    border-bottom-color: var(--fill-color);\n",
              "    animation:\n",
              "      spin 1s steps(1) infinite;\n",
              "  }\n",
              "\n",
              "  @keyframes spin {\n",
              "    0% {\n",
              "      border-color: transparent;\n",
              "      border-bottom-color: var(--fill-color);\n",
              "      border-left-color: var(--fill-color);\n",
              "    }\n",
              "    20% {\n",
              "      border-color: transparent;\n",
              "      border-left-color: var(--fill-color);\n",
              "      border-top-color: var(--fill-color);\n",
              "    }\n",
              "    30% {\n",
              "      border-color: transparent;\n",
              "      border-left-color: var(--fill-color);\n",
              "      border-top-color: var(--fill-color);\n",
              "      border-right-color: var(--fill-color);\n",
              "    }\n",
              "    40% {\n",
              "      border-color: transparent;\n",
              "      border-right-color: var(--fill-color);\n",
              "      border-top-color: var(--fill-color);\n",
              "    }\n",
              "    60% {\n",
              "      border-color: transparent;\n",
              "      border-right-color: var(--fill-color);\n",
              "    }\n",
              "    80% {\n",
              "      border-color: transparent;\n",
              "      border-right-color: var(--fill-color);\n",
              "      border-bottom-color: var(--fill-color);\n",
              "    }\n",
              "    90% {\n",
              "      border-color: transparent;\n",
              "      border-bottom-color: var(--fill-color);\n",
              "    }\n",
              "  }\n",
              "</style>\n",
              "\n",
              "  <script>\n",
              "    async function quickchart(key) {\n",
              "      const quickchartButtonEl =\n",
              "        document.querySelector('#' + key + ' button');\n",
              "      quickchartButtonEl.disabled = true;  // To prevent multiple clicks.\n",
              "      quickchartButtonEl.classList.add('colab-df-spinner');\n",
              "      try {\n",
              "        const charts = await google.colab.kernel.invokeFunction(\n",
              "            'suggestCharts', [key], {});\n",
              "      } catch (error) {\n",
              "        console.error('Error during call to suggestCharts:', error);\n",
              "      }\n",
              "      quickchartButtonEl.classList.remove('colab-df-spinner');\n",
              "      quickchartButtonEl.classList.add('colab-df-quickchart-complete');\n",
              "    }\n",
              "    (() => {\n",
              "      let quickchartButtonEl =\n",
              "        document.querySelector('#df-5a9bac4f-ef11-415c-a64c-0e675bd1c403 button');\n",
              "      quickchartButtonEl.style.display =\n",
              "        google.colab.kernel.accessAllowed ? 'block' : 'none';\n",
              "    })();\n",
              "  </script>\n",
              "</div>\n",
              "\n",
              "  <div id=\"id_7d2563e6-1704-4f85-9588-f7dcd02c4f6a\">\n",
              "    <style>\n",
              "      .colab-df-generate {\n",
              "        background-color: #E8F0FE;\n",
              "        border: none;\n",
              "        border-radius: 50%;\n",
              "        cursor: pointer;\n",
              "        display: none;\n",
              "        fill: #1967D2;\n",
              "        height: 32px;\n",
              "        padding: 0 0 0 0;\n",
              "        width: 32px;\n",
              "      }\n",
              "\n",
              "      .colab-df-generate:hover {\n",
              "        background-color: #E2EBFA;\n",
              "        box-shadow: 0px 1px 2px rgba(60, 64, 67, 0.3), 0px 1px 3px 1px rgba(60, 64, 67, 0.15);\n",
              "        fill: #174EA6;\n",
              "      }\n",
              "\n",
              "      [theme=dark] .colab-df-generate {\n",
              "        background-color: #3B4455;\n",
              "        fill: #D2E3FC;\n",
              "      }\n",
              "\n",
              "      [theme=dark] .colab-df-generate:hover {\n",
              "        background-color: #434B5C;\n",
              "        box-shadow: 0px 1px 3px 1px rgba(0, 0, 0, 0.15);\n",
              "        filter: drop-shadow(0px 1px 2px rgba(0, 0, 0, 0.3));\n",
              "        fill: #FFFFFF;\n",
              "      }\n",
              "    </style>\n",
              "    <button class=\"colab-df-generate\" onclick=\"generateWithVariable('X_lasso_df')\"\n",
              "            title=\"Generate code using this dataframe.\"\n",
              "            style=\"display:none;\">\n",
              "\n",
              "  <svg xmlns=\"http://www.w3.org/2000/svg\" height=\"24px\"viewBox=\"0 0 24 24\"\n",
              "       width=\"24px\">\n",
              "    <path d=\"M7,19H8.4L18.45,9,17,7.55,7,17.6ZM5,21V16.75L18.45,3.32a2,2,0,0,1,2.83,0l1.4,1.43a1.91,1.91,0,0,1,.58,1.4,1.91,1.91,0,0,1-.58,1.4L9.25,21ZM18.45,9,17,7.55Zm-12,3A5.31,5.31,0,0,0,4.9,8.1,5.31,5.31,0,0,0,1,6.5,5.31,5.31,0,0,0,4.9,4.9,5.31,5.31,0,0,0,6.5,1,5.31,5.31,0,0,0,8.1,4.9,5.31,5.31,0,0,0,12,6.5,5.46,5.46,0,0,0,6.5,12Z\"/>\n",
              "  </svg>\n",
              "    </button>\n",
              "    <script>\n",
              "      (() => {\n",
              "      const buttonEl =\n",
              "        document.querySelector('#id_7d2563e6-1704-4f85-9588-f7dcd02c4f6a button.colab-df-generate');\n",
              "      buttonEl.style.display =\n",
              "        google.colab.kernel.accessAllowed ? 'block' : 'none';\n",
              "\n",
              "      buttonEl.onclick = () => {\n",
              "        google.colab.notebook.generateWithVariable('X_lasso_df');\n",
              "      }\n",
              "      })();\n",
              "    </script>\n",
              "  </div>\n",
              "\n",
              "    </div>\n",
              "  </div>\n"
            ],
            "application/vnd.google.colaboratory.intrinsic+json": {
              "type": "dataframe",
              "variable_name": "X_lasso_df",
              "summary": "{\n  \"name\": \"X_lasso_df\",\n  \"rows\": 1000,\n  \"fields\": [\n    {\n      \"column\": \"intercept\",\n      \"properties\": {\n        \"dtype\": \"number\",\n        \"std\": 0.0,\n        \"min\": 1.0,\n        \"max\": 1.0,\n        \"num_unique_values\": 1,\n        \"samples\": [\n          1.0\n        ],\n        \"semantic_type\": \"\",\n        \"description\": \"\"\n      }\n    },\n    {\n      \"column\": \"x1\",\n      \"properties\": {\n        \"dtype\": \"number\",\n        \"std\": 1.0005003753127735,\n        \"min\": -3.4069057135488046,\n        \"max\": 3.168893556957258,\n        \"num_unique_values\": 1000,\n        \"samples\": [\n          0.9801160177911102\n        ],\n        \"semantic_type\": \"\",\n        \"description\": \"\"\n      }\n    },\n    {\n      \"column\": \"x2\",\n      \"properties\": {\n        \"dtype\": \"number\",\n        \"std\": 1.000500375312774,\n        \"min\": -2.954670831925969,\n        \"max\": 3.741675848605585,\n        \"num_unique_values\": 1000,\n        \"samples\": [\n          0.4377852897939545\n        ],\n        \"semantic_type\": \"\",\n        \"description\": \"\"\n      }\n    },\n    {\n      \"column\": \"x1_sq\",\n      \"properties\": {\n        \"dtype\": \"number\",\n        \"std\": 1.0005003753127732,\n        \"min\": -0.6971008652358032,\n        \"max\": 7.221637576633529,\n        \"num_unique_values\": 1000,\n        \"samples\": [\n          0.019712634581056786\n        ],\n        \"semantic_type\": \"\",\n        \"description\": \"\"\n      }\n    },\n    {\n      \"column\": \"x2_sq\",\n      \"properties\": {\n        \"dtype\": \"number\",\n        \"std\": 1.000500375312773,\n        \"min\": -0.7001489676445082,\n        \"max\": 9.366866811407897,\n        \"num_unique_values\": 1000,\n        \"samples\": [\n          -0.5298601275631792\n        ],\n        \"semantic_type\": \"\",\n        \"description\": \"\"\n      }\n    }\n  ]\n}"
            }
          },
          "metadata": {},
          "execution_count": 17
        }
      ],
      "execution_count": 17
    },
    {
      "cell_type": "code",
      "source": [
        "import matplotlib.pyplot as plt\n",
        "from sklearn.linear_model import Lasso\n",
        "from sklearn.linear_model import lasso_path"
      ],
      "metadata": {
        "id": "yLD7Om932PVc"
      },
      "id": "yLD7Om932PVc",
      "execution_count": 18,
      "outputs": []
    },
    {
      "cell_type": "code",
      "source": [
        "alphas, coefs, _ = lasso_path(X_lasso_df, y1000, n_alphas=100, alphas=None)\n",
        "plt.figure(figsize=(10, 6))\n",
        "plt.plot(alphas, coefs.T, marker='o')\n",
        "plt.xscale('log')\n",
        "plt.xlabel('Alpha')\n",
        "plt.ylabel('Coefficients')\n",
        "plt.title('Lasso Path')\n",
        "plt.axis('tight')\n",
        "plt.show()"
      ],
      "metadata": {
        "colab": {
          "base_uri": "https://localhost:8080/",
          "height": 569
        },
        "id": "H0wvXm8S2Q1I",
        "outputId": "e3af0d1c-362b-4b88-a738-72bcaf8a36b6"
      },
      "id": "H0wvXm8S2Q1I",
      "execution_count": 19,
      "outputs": [
        {
          "output_type": "display_data",
          "data": {
            "text/plain": [
              "<Figure size 1000x600 with 1 Axes>"
            ],
            "image/png": "[encoded data removed]"
          },
          "metadata": {}
        }
      ]
    },
    {
      "cell_type": "markdown",
      "source": [
        "1.The Lasso path for the x_sq term is likely to show a coefficient trajectory that shrinks towards zero as the regularization parameter (alpha) increases. This behavior is predictable because x_sq is a quadratic term, and Lasso tends to shrink the coefficients of less important features towards zero.\n",
        "\n",
        "2.In the context of Lasso regression, a high value for alpha would typically be chosen by cross-validation if the true coefficients of the features are close to zero or if a simpler model is preferable."
      ],
      "metadata": {
        "id": "I-ka62aq2yti"
      },
      "id": "I-ka62aq2yti"
    }
  ],
  "metadata": {
    "kernelspec": {
      "display_name": "Python 3 (ipykernel)",
      "language": "python",
      "name": "python3"
    },
    "language_info": {
      "codemirror_mode": {
        "name": "ipython",
        "version": 3
      },
      "file_extension": ".py",
      "mimetype": "text/x-python",
      "name": "python",
      "nbconvert_exporter": "python",
      "pygments_lexer": "ipython3",
      "version": "3.9.15"
    },
    "colab": {
      "provenance": [],
      "include_colab_link": true
    }
  },
  "nbformat": 4,
  "nbformat_minor": 5
}